{
 "cells": [
  {
   "cell_type": "markdown",
   "metadata": {},
   "source": [
    "<div style=\"background:#0B4AAB;color:#fff;padding:1em 2em 1.5em 2em;border-radius: 3px;font-weight:bold\">\n",
    "    <strong>\n",
    "        <h4 style=\"color:#fff\"><font size=\"6\">Comment Toxicity with Deep Learning</font></h4>\n",
    "    </strong>\n",
    "</div>\n",
    "<br>\n",
    "<img src=\"comentarios.jpg\">\n",
    "\n",
    "\n"
   ]
  },
  {
   "cell_type": "markdown",
   "metadata": {},
   "source": [
    "<div style=\"background:#5564eb;color:#fff;padding:1em 2em 1.5em 2em;border-radius: 3px;font-weight:bold\">\n",
    "    <strong>\n",
    "        <h4 style = \"color:#fff\"><font size = 5>1.Importaciones de librerias</font></h4>\n",
    "    </strong>\n",
    "</div><br>"
   ]
  },
  {
   "cell_type": "code",
   "execution_count": 1,
   "metadata": {},
   "outputs": [],
   "source": [
    "import os\n",
    "import pandas as pd\n",
    "import tensorflow as tf\n",
    "import numpy as np\n",
    "\n",
    "from tensorflow.keras.layers import TextVectorization\n",
    "from tensorflow.keras.metrics import Precision, Recall, CategoricalAccuracy"
   ]
  },
  {
   "cell_type": "markdown",
   "metadata": {},
   "source": [
    "<div style=\"background:#5564eb;color:#fff;padding:1em 2em 1.5em 2em;border-radius: 3px;font-weight:bold\">\n",
    "    <strong>\n",
    "        <h4 style = \"color:#fff\"><font size = 5>2. Carga de datos</font></h4>\n",
    "    </strong>\n",
    "</div><br>\n",
    "https://www.kaggle.com/c/jigsaw-toxic-comment-classification-challenge"
   ]
  },
  {
   "cell_type": "code",
   "execution_count": null,
   "metadata": {},
   "outputs": [],
   "source": [
    "df = pd.read_csv(os.path.join('jigsaw-toxic-comment-classification-challenge','train.csv', 'train.csv'))"
   ]
  }
 ],
 "metadata": {
  "kernelspec": {
   "display_name": "tensorflowv1",
   "language": "python",
   "name": "python3"
  },
  "language_info": {
   "codemirror_mode": {
    "name": "ipython",
    "version": 3
   },
   "file_extension": ".py",
   "mimetype": "text/x-python",
   "name": "python",
   "nbconvert_exporter": "python",
   "pygments_lexer": "ipython3",
   "version": "3.10.14"
  }
 },
 "nbformat": 4,
 "nbformat_minor": 2
}
